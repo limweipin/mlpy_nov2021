{
 "cells": [
  {
   "cell_type": "markdown",
   "metadata": {},
   "source": [
    "### Shape classification using machine learning\n",
    "In this hands-on, we will go through the machine learning workflow of data preparation, training, testing, tuning and deployment of a  model for the classification of circles, squares and triangles."
   ]
  },
  {
   "cell_type": "code",
   "execution_count": 1,
   "metadata": {},
   "outputs": [],
   "source": [
    "%matplotlib inline\n",
    "from warnings import filterwarnings\n",
    "filterwarnings('ignore')"
   ]
  },
  {
   "cell_type": "code",
   "execution_count": 2,
   "metadata": {
    "scrolled": true
   },
   "outputs": [
    {
     "name": "stdout",
     "output_type": "stream",
     "text": [
      "Folder: data/three_shapes_filled/, sub-folders: ['circle', 'square', 'triangle'], number of files: 0\n",
      "Folder: data/three_shapes_filled/circle, sub-folders: [], number of files: 200\n",
      "Folder: data/three_shapes_filled/square, sub-folders: [], number of files: 200\n",
      "Folder: data/three_shapes_filled/triangle, sub-folders: [], number of files: 200\n"
     ]
    }
   ],
   "source": [
    "import os\n",
    "import matplotlib.pyplot as plt\n",
    "import numpy as np\n",
    "from skimage.io import imread\n",
    "from random import randrange\n",
    "\n",
    "filelist = []\n",
    "labels = []\n",
    "for root, dirs, files in os.walk('data/three_shapes_filled/'):\n",
    "    print(f'Folder: {root}, sub-folders: {dirs}, number of files: {len(files)}')\n",
    "    if len(files) == 0:\n",
    "        continue\n",
    "    filelist.extend([os.path.join(root, f) for f in files])\n",
    "    dir = root.split('/')[-1]\n",
    "    labels.extend([dir] * len(files))\n"
   ]
  },
  {
   "cell_type": "code",
   "execution_count": 3,
   "metadata": {},
   "outputs": [],
   "source": [
    "# Read image and reshape as 1D array\n",
    "images = imread(filelist[0], as_gray=True).reshape(1, -1)\n",
    "for i in range(1, len(filelist)):\n",
    "    images = np.append(images, imread(filelist[i], as_gray=True).reshape(1, -1), axis=0)"
   ]
  },
  {
   "cell_type": "code",
   "execution_count": 4,
   "metadata": {},
   "outputs": [
    {
     "name": "stdout",
     "output_type": "stream",
     "text": [
      "(600, 1024) (600,)\n"
     ]
    }
   ],
   "source": [
    "X = images\n",
    "y = np.array(labels)\n",
    "print(X.shape, y.shape)"
   ]
  },
  {
   "cell_type": "code",
   "execution_count": 5,
   "metadata": {},
   "outputs": [
    {
     "data": {
      "image/png": "[encoded data removed]",
      "text/plain": [
       "<Figure size 432x288 with 15 Axes>"
      ]
     },
     "metadata": {
      "needs_background": "light"
     },
     "output_type": "display_data"
    }
   ],
   "source": [
    "indices = [randrange(len(X)) for i in range(15)]\n",
    "fig, axes = plt.subplots(3, 5)\n",
    "for ax, image, label in zip(axes.ravel(), X[indices], y[indices]):\n",
    "    ax.set_axis_off()\n",
    "    ax.set_title(label)\n",
    "    ax.imshow(image.reshape(32, 32), cmap='gray', interpolation='nearest')"
   ]
  },
  {
   "cell_type": "markdown",
   "metadata": {},
   "source": [
    "- To do: \n",
    "  - Split the dataset into training and testing sets.\n",
    "  - Train a knn model (using default settings).\n",
    "  - Evaluate its performance using the testing set and print the score."
   ]
  },
  {
   "cell_type": "code",
   "execution_count": 6,
   "metadata": {},
   "outputs": [
    {
     "name": "stdout",
     "output_type": "stream",
     "text": [
      "0.8666666666666667\n"
     ]
    }
   ],
   "source": [
    "from sklearn.model_selection import train_test_split as split, GridSearchCV, StratifiedKFold\n",
    "from sklearn.preprocessing import StandardScaler, MinMaxScaler, RobustScaler\n",
    "from sklearn.decomposition import PCA\n",
    "from sklearn.pipeline import Pipeline\n",
    "from sklearn.ensemble import RandomForestClassifier, GradientBoostingClassifier\n",
    "from sklearn.neighbors import KNeighborsClassifier\n",
    "from sklearn.linear_model import LogisticRegression\n",
    "from sklearn.svm import SVC\n",
    "from sklearn.neural_network import MLPClassifier\n",
    "# from xgboost import XGBClassifier\n",
    "\n",
    "X_train, X_test, y_train, y_test = split(X, y, stratify=y, random_state=42)\n",
    "\n",
    "knn = KNeighborsClassifier().fit(X_train, y_train)\n",
    "print(f'{knn.score(X_test, y_test)}')"
   ]
  },
  {
   "cell_type": "markdown",
   "metadata": {},
   "source": [
    "- To do: \n",
    "  - Construct a pipeline with three steps: scaling ('scl'), dimensionality reduction using PCA ('dr') and classification ('clf').\n",
    "  - Use gridsearch to search for the best process for each steps as follows:\n",
    "    - scaling: No scaling, MinMaxScaler, StandardScaler.\n",
    "    - dimensionality reduction with PCA: test with 50 to 150 principal components (with an interval of 10).\n",
    "    - classification: test with kNN, logistic regression, decision tree, random forests, gradient boosted tree, extreme gradient boost, support vector machine and multilayer perceptron on this dataset with no rescaling, MinMaxScaler, StandardScaler and RobustScaler. \n",
    "    - Use default settings for all the classifiers."
   ]
  },
  {
   "cell_type": "code",
   "execution_count": 7,
   "metadata": {},
   "outputs": [
    {
     "name": "stdout",
     "output_type": "stream",
     "text": [
      "Fitting 5 folds for each of 210 candidates, totalling 1050 fits\n",
      "{'clf': MLPClassifier(), 'dr__n_components': 60, 'scl': StandardScaler()}\n"
     ]
    }
   ],
   "source": [
    "from sklearn.tree import DecisionTreeClassifier\n",
    "pipe = Pipeline([('scl', None), ('dr', PCA(random_state=42)), ('clf', KNeighborsClassifier())])\n",
    "params = {}\n",
    "params['scl'] = [None, StandardScaler(), MinMaxScaler()]\n",
    "params['dr__n_components'] = range(50, 150, 10)\n",
    "params['clf'] = [KNeighborsClassifier(), LogisticRegression(), DecisionTreeClassifier(), RandomForestClassifier(),\n",
    "                GradientBoostingClassifier(), SVC(), MLPClassifier()]\n",
    "gs = GridSearchCV(pipe, params, cv=5, n_jobs=-1, verbose=2).fit(X_train, y_train)\n",
    "print(gs.best_params_)"
   ]
  },
  {
   "cell_type": "markdown",
   "metadata": {},
   "source": [
    "-  To do: \n",
    "  - Store the best model as 'model'.\n",
    "  - Evaluate the best model using the testing set and print the score."
   ]
  },
  {
   "cell_type": "code",
   "execution_count": 8,
   "metadata": {},
   "outputs": [
    {
     "name": "stdout",
     "output_type": "stream",
     "text": [
      "Best model score: 0.9266666666666666\n"
     ]
    }
   ],
   "source": [
    "model = gs.best_estimator_\n",
    "print(f'Best model score: {model.score(X_test, y_test)}')"
   ]
  },
  {
   "cell_type": "markdown",
   "metadata": {},
   "source": [
    "- Random select 15 test data and predict their corresponding classes.\n",
    "- Plot the test data and the predicted labels."
   ]
  },
  {
   "cell_type": "code",
   "execution_count": 9,
   "metadata": {},
   "outputs": [
    {
     "data": {
      "image/png": "[encoded data removed]",
      "text/plain": [
       "<Figure size 432x288 with 15 Axes>"
      ]
     },
     "metadata": {
      "needs_background": "light"
     },
     "output_type": "display_data"
    }
   ],
   "source": [
    "ind_test = [randrange(len(X_test)) for i in range(15)]\n",
    "y_pred = model.predict(X_test[ind_test])\n",
    "\n",
    "fig, axes = plt.subplots(3, 5)\n",
    "for ax, image, label in zip(axes.ravel(), X_test[ind_test], y_pred):\n",
    "    ax.set_axis_off()\n",
    "    ax.set_title(label)\n",
    "    ax.imshow(image.reshape(32, 32), cmap='gray', interpolation='nearest')"
   ]
  },
  {
   "cell_type": "markdown",
   "metadata": {},
   "source": [
    "-  Plot the confusion matrix."
   ]
  },
  {
   "cell_type": "code",
   "execution_count": 10,
   "metadata": {
    "scrolled": true
   },
   "outputs": [
    {
     "data": {
      "image/png": "[encoded data removed]",
      "text/plain": [
       "<Figure size 432x288 with 2 Axes>"
      ]
     },
     "metadata": {
      "needs_background": "light"
     },
     "output_type": "display_data"
    }
   ],
   "source": [
    "from sklearn.metrics import plot_confusion_matrix\n",
    "plot_confusion_matrix(model, X_test, y_test)\n",
    "plt.show()"
   ]
  }
 ],
 "metadata": {
  "kernelspec": {
   "display_name": "Python 3",
   "language": "python",
   "name": "python3"
  },
  "language_info": {
   "codemirror_mode": {
    "name": "ipython",
    "version": 3
   },
   "file_extension": ".py",
   "mimetype": "text/x-python",
   "name": "python",
   "nbconvert_exporter": "python",
   "pygments_lexer": "ipython3",
   "version": "3.9.4"
  }
 },
 "nbformat": 4,
 "nbformat_minor": 4
}
